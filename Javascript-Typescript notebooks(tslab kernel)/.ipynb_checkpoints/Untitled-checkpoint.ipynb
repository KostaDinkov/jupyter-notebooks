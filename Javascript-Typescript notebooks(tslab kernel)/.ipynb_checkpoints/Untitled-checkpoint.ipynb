{
 "cells": [
  {
   "cell_type": "code",
   "execution_count": null,
   "metadata": {},
   "outputs": [
    {
     "name": "stderr",
     "output_type": "stream",
     "text": [
      "unexpected error: TypeError: notifyUpdateSrc is not a function\n",
      "    at updateContent (C:\\Users\\Kosta\\AppData\\Roaming\\npm\\node_modules\\\u001b[4mtslab\u001b[24m\\dist\\converter.js:532:9)\n",
      "    at Object.convert (C:\\Users\\Kosta\\AppData\\Roaming\\npm\\node_modules\\\u001b[4mtslab\u001b[24m\\dist\\converter.js:187:9)\n",
      "    at Object.execute (C:\\Users\\Kosta\\AppData\\Roaming\\npm\\node_modules\\\u001b[4mtslab\u001b[24m\\dist\\executor.js:140:32)\n",
      "    at JupyterHandlerImpl.handleExecuteImpl (C:\\Users\\Kosta\\AppData\\Roaming\\npm\\node_modules\\\u001b[4mtslab\u001b[24m\\dist\\jupyter.js:205:38)\n",
      "    at C:\\Users\\Kosta\\AppData\\Roaming\\npm\\node_modules\\\u001b[4mtslab\u001b[24m\\dist\\jupyter.js:163:57\n",
      "    at async JupyterHandlerImpl.handleExecute (C:\\Users\\Kosta\\AppData\\Roaming\\npm\\node_modules\\\u001b[4mtslab\u001b[24m\\dist\\jupyter.js:163:21)\n",
      "    at async ZmqServer.handleExecute (C:\\Users\\Kosta\\AppData\\Roaming\\npm\\node_modules\\\u001b[4mtslab\u001b[24m\\dist\\jupyter.js:361:25)\n",
      "    at async ZmqServer.handleShellMessage (C:\\Users\\Kosta\\AppData\\Roaming\\npm\\node_modules\\\u001b[4mtslab\u001b[24m\\dist\\jupyter.js:306:21)\n"
     ]
    }
   ],
   "source": [
    "function display(label){\n",
    "    console.log(label);\n",
    "}\n",
    "\n",
    "display(\"hello\");"
   ]
  },
  {
   "cell_type": "code",
   "execution_count": null,
   "metadata": {},
   "outputs": [],
   "source": []
  },
  {
   "cell_type": "code",
   "execution_count": null,
   "metadata": {},
   "outputs": [],
   "source": []
  }
 ],
 "metadata": {
  "kernelspec": {
   "display_name": "TypeScript",
   "language": "typescript",
   "name": "tslab"
  },
  "language_info": {
   "codemirror_mode": {
    "mode": "typescript",
    "name": "javascript",
    "typescript": true
   },
   "file_extension": ".ts",
   "mimetype": "text/typescript",
   "name": "typescript",
   "version": "3.7.2"
  }
 },
 "nbformat": 4,
 "nbformat_minor": 4
}

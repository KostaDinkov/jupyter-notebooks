{
 "cells": [
  {
   "cell_type": "code",
   "execution_count": 1,
   "metadata": {},
   "outputs": [],
   "source": [
    "// notebook utils setup\n",
    "const log =(msg)=> console.log(msg);"
   ]
  },
  {
   "cell_type": "markdown",
   "metadata": {},
   "source": [
    "# Javascript Deep Dive\n",
    "\n",
    "## 1. Types\n",
    "----\n",
    "\n",
    "* undefined\n",
    "\n",
    "* string\n",
    "\n",
    "* number\n",
    "\n",
    "* boolean\n",
    "\n",
    "* object\n",
    "\n",
    "* symbol\n",
    "\n",
    "* null ? \n",
    "\n",
    "* bigint - upcomming\n"
   ]
  },
  {
   "cell_type": "markdown",
   "metadata": {},
   "source": [
    "### ⚠️ 1.1 Typeof null value returns \"object\", but should be null"
   ]
  },
  {
   "cell_type": "code",
   "execution_count": 2,
   "metadata": {},
   "outputs": [
    {
     "data": {
      "text/plain": [
       "'object'"
      ]
     },
     "execution_count": 2,
     "metadata": {},
     "output_type": "execute_result"
    }
   ],
   "source": [
    "var v = null; \n",
    "typeof v; // \"object\" !!!"
   ]
  },
  {
   "cell_type": "markdown",
   "metadata": {},
   "source": [
    "### ⚠️ 1.2 `NaN` is not equal to `NaN`\n",
    "This is the only case in JS where a value is not equal to itself\n",
    "\n",
    "💡 **Think of `NaN` as not a valid number instead of not a number**"
   ]
  },
  {
   "cell_type": "code",
   "execution_count": 3,
   "metadata": {},
   "outputs": [
    {
     "data": {
      "text/plain": [
       "false"
      ]
     },
     "execution_count": 3,
     "metadata": {},
     "output_type": "execute_result"
    }
   ],
   "source": [
    "var myDogsAge = Number(\"5\")\n",
    "var myAge = Number(\"n/a\") //NaN\n",
    "myAge === myAge // false OOPS!!!"
   ]
  },
  {
   "cell_type": "markdown",
   "metadata": {},
   "source": [
    "### ⚠️ 1.3 `isNaN()` returns `true` for string values. Use `Number.isNaN(n)` instead"
   ]
  },
  {
   "cell_type": "code",
   "execution_count": 4,
   "metadata": {},
   "outputs": [
    {
     "name": "stdout",
     "output_type": "stream",
     "text": [
      "true\n",
      "false\n"
     ]
    }
   ],
   "source": [
    "log(isNaN(\"my value\"));\n",
    "log(Number.isNaN(\"my value\"));"
   ]
  },
  {
   "cell_type": "markdown",
   "metadata": {},
   "source": [
    "### 💡 1.4 There is a `-0` numeric value"
   ]
  },
  {
   "cell_type": "code",
   "execution_count": 5,
   "metadata": {},
   "outputs": [
    {
     "data": {
      "text/plain": [
       "true"
      ]
     },
     "execution_count": 5,
     "metadata": {},
     "output_type": "execute_result"
    }
   ],
   "source": [
    "let trendRate = -0;\n",
    "trendRate === -0;"
   ]
  },
  {
   "cell_type": "markdown",
   "metadata": {},
   "source": [
    "### ⚠️ 1.5 `toString()` on a negative zero value returns \"0\""
   ]
  },
  {
   "cell_type": "code",
   "execution_count": 6,
   "metadata": {},
   "outputs": [
    {
     "data": {
      "text/plain": [
       "'0'"
      ]
     },
     "execution_count": 6,
     "metadata": {},
     "output_type": "execute_result"
    }
   ],
   "source": [
    "trendRate.toString()"
   ]
  },
  {
   "cell_type": "markdown",
   "metadata": {},
   "source": [
    "### ⚠️1.6 Tripple equal on negative zero and zero returns true. Use `Object.is(negativeZero, 0)` instead"
   ]
  },
  {
   "cell_type": "code",
   "execution_count": 7,
   "metadata": {},
   "outputs": [
    {
     "data": {
      "text/plain": [
       "true"
      ]
     },
     "execution_count": 7,
     "metadata": {},
     "output_type": "execute_result"
    }
   ],
   "source": [
    "trendRate === 0;"
   ]
  },
  {
   "cell_type": "markdown",
   "metadata": {},
   "source": [
    "### 💡 1.7 Use `Object.is()` for maximum correctness"
   ]
  },
  {
   "cell_type": "code",
   "execution_count": 8,
   "metadata": {},
   "outputs": [
    {
     "name": "stdout",
     "output_type": "stream",
     "text": [
      "true\n",
      "false\n"
     ]
    }
   ],
   "source": [
    "log(Object.is(trendRate, -0));\n",
    "log(Object.is(trendRate, 0));"
   ]
  },
  {
   "cell_type": "markdown",
   "metadata": {},
   "source": [
    "### 💡 1.8 There is a `Infinity` keyword in JS which is a number type.\n",
    "A number divided by `-0` returns `-Infinity`"
   ]
  },
  {
   "cell_type": "code",
   "execution_count": 9,
   "metadata": {},
   "outputs": [
    {
     "name": "stdout",
     "output_type": "stream",
     "text": [
      "The type of Infinity:number\n",
      "-Infinity\n"
     ]
    }
   ],
   "source": [
    "log(`The type of Infinity:${typeof Infinity}`);\n",
    "log(5/-0);"
   ]
  },
  {
   "cell_type": "markdown",
   "metadata": {},
   "source": [
    "### 💡 1.9 Fundamental Objects.\n",
    "#### Use `new` on :\n",
    "* Object()\n",
    "* Array()\n",
    "* Function()\n",
    "* Date()\n",
    "* RegExp()\n",
    "* Error()\n",
    "\n",
    "#### Don't use `new` on:\n",
    "* String()\n",
    "* Number()\n",
    "* Boolean()"
   ]
  },
  {
   "cell_type": "markdown",
   "metadata": {},
   "source": [
    "## 2. Abstract Operations\n",
    "----"
   ]
  },
  {
   "cell_type": "markdown",
   "metadata": {},
   "source": [
    "### ⚠️ 2.1 Array.ToString - Corner cases and behavior\n",
    "*Note: brackets are omitted*"
   ]
  },
  {
   "cell_type": "code",
   "execution_count": 10,
   "metadata": {},
   "outputs": [
    {
     "name": "stdout",
     "output_type": "stream",
     "text": [
      "1,2,3\n",
      "\n",
      ",\n",
      ",,,\n",
      ",,,\n"
     ]
    }
   ],
   "source": [
    "log([1,2,3].toString());\n",
    "log([].toString()); // returns \"\"\n",
    "log([null, undefined].toString());\n",
    "log([[[],[],[]],[]].toString());\n",
    "log([,,,,].toString());"
   ]
  },
  {
   "cell_type": "markdown",
   "metadata": {},
   "source": [
    "### ⚠️ 2.2 Object.toString - behavior"
   ]
  },
  {
   "cell_type": "code",
   "execution_count": 11,
   "metadata": {},
   "outputs": [
    {
     "name": "stdout",
     "output_type": "stream",
     "text": [
      "[object Object]\n",
      "[object Object]\n",
      "X\n"
     ]
    }
   ],
   "source": [
    "log({}.toString());\n",
    "log({a:2}.toString());\n",
    "log({toString(){return\"X\"}}.toString());"
   ]
  },
  {
   "cell_type": "markdown",
   "metadata": {},
   "source": [
    "### ⚠️ 2.3 `Number()` - behavior"
   ]
  },
  {
   "cell_type": "code",
   "execution_count": 12,
   "metadata": {},
   "outputs": [
    {
     "name": "stdout",
     "output_type": "stream",
     "text": [
      "\"\" is: 0\n",
      "\"0\" is: 0\n",
      "[] is: 0\n",
      "[1,2] is: NaN\n",
      "\".\" is: NaN\n",
      "\"0009\" is: 9\n",
      "0xaf is: 175\n",
      "undefined is: NaN\n",
      "null is: 0\n",
      "true is: 1\n",
      "false is: 0\n"
     ]
    }
   ],
   "source": [
    "log('\"\" is: '+ Number(\"\"));\n",
    "log('\"0\" is: '+ Number(\"0\"));\n",
    "log('[] is: ' + Number([]));\n",
    "log('[1,2] is: ' + Number([1,2]));\n",
    "log('\".\" is: ' + Number(\".\"));\n",
    "log('\"0009\" is: ' + Number(\"0009\"));\n",
    "log('0xaf is: ' + Number(\"0xaf\"));\n",
    "log('undefined is: ' + Number(undefined));\n",
    "log('null is: ' + Number(null));\n",
    "log('true is: ' + Number(true));\n",
    "log('false is: ' + Number(false));"
   ]
  },
  {
   "cell_type": "markdown",
   "metadata": {},
   "source": [
    "### 💡 2.4 Truthy and falsy values\n",
    "\n",
    "|Falsy     |Truthy    |\n",
    "|----------|----------|\n",
    "|\"\"        |\"foo\"     |\n",
    "|0, -0     |23        |\n",
    "|null      |{a:1}     |\n",
    "|NaN       |[1,2]     |\n",
    "|false     |true      |\n",
    "|undefined |function(){...}|"
   ]
  },
  {
   "cell_type": "markdown",
   "metadata": {},
   "source": [
    "## 3. Equality\n",
    "----"
   ]
  },
  {
   "cell_type": "markdown",
   "metadata": {},
   "source": [
    "### 💡 3.1 Given two objects `a` and `b`, when their types match, `==` performs the same as `===`\n",
    "\n",
    "Here is the specification for `==`\n",
    "\n",
    "```\n",
    "7.2.14Abstract Equality Comparison\n",
    "\n",
    "The comparison x == y, where x and y are values, produces true or false. Such a comparison is performed as follows:\n",
    "\n",
    "If Type(x) is the same as Type(y), then\n",
    "Return the result of performing Strict Equality Comparison x === y.\n",
    "If x is null and y is undefined, return true.\n",
    "If x is undefined and y is null, return true.\n",
    "If Type(x) is Number and Type(y) is String, return the result of the comparison x == ! ToNumber(y).\n",
    "If Type(x) is String and Type(y) is Number, return the result of the comparison ! ToNumber(x) == y.\n",
    "If Type(x) is Boolean, return the result of the comparison ! ToNumber(x) == y.\n",
    "If Type(y) is Boolean, return the result of the comparison x == ! ToNumber(y).\n",
    "If Type(x) is either String, Number, or Symbol and Type(y) is Object, return the result of the comparison x == ToPrimitive(y).\n",
    "If Type(x) is Object and Type(y) is either String, Number, or Symbol, return the result of the comparison ToPrimitive(x) == y.\n",
    "Return false.\n",
    "```\n",
    "\n",
    "\n",
    "#### `==` prefers numeric comparison - in the case of a string and a number, the algorithm will try to coerce the string to numer and do a numeric comparison\n",
    "#### When comparing  either String, Number, or Symbo to an object, the `==` algorithm first invokes the `ToPrimitive()` abstract operation on the object;\n",
    "#### When types are not equal, `===` always returns `false`\n",
    "\n",
    "#### And the spec for `===`:\n",
    "\n",
    "```\n",
    "7.2.15Strict Equality Comparison\n",
    "The comparison x === y, where x and y are values, produces true or false. Such a comparison is performed as follows:\n",
    "\n",
    "If Type(x) is different from Type(y), return false.\n",
    "If Type(x) is Number, then\n",
    "If x is NaN, return false.\n",
    "If y is NaN, return false.\n",
    "If x is the same Number value as y, return true.\n",
    "If x is +0 and y is -0, return true.\n",
    "If x is -0 and y is +0, return true.\n",
    "Return false.\n",
    "Return SameValueNonNumber(x, y).\n",
    "NOTE\n",
    "This algorithm differs from the SameValue Algorithm in its treatment of signed zeroes and NaNs.\n",
    "\n",
    "```\n",
    "----\n",
    "### Summary for `==` :\n",
    "* If types are the same: <code>===</code></li>\n",
    "* If `null` or `undefined`: equal\n",
    "* If non-primitives: `ToPrimitive`\n",
    "* Prefer: `ToNumber`\n",
    "\n",
    "### Avoid:\n",
    "* `==` with 0 or \"\" or \" \"\n",
    "* `==` with non-primitives\n",
    "* `== true` or `== false`\n",
    "* allow `ToBollean` abstract operation to happen imlicitly or use `===`\n"
   ]
  },
  {
   "cell_type": "markdown",
   "metadata": {},
   "source": [
    "## 4. Static Typing\n",
    "----\n",
    "\n",
    "### Static typing systems pros and cons (Typescript Flow)\n",
    "*as seen by Kyle Simpson*\n",
    "\n",
    "#### Pros:\n",
    "* They make types more obvious in code\n",
    "* Familiarity: they look like other language's type systems\n",
    "* Popular - big communities\n",
    "* Very good tooling integrations\n",
    "\n",
    "#### Cons:\n",
    "* They use \"non-JS-standard\" syntax (or code comments)\n",
    "* They require a build process\n",
    "* Extra syntax and code complexity\n",
    "* They focus more on *static types* (variables, parameters, returns, propertiex, etc) than *value types*\n"
   ]
  },
  {
   "cell_type": "markdown",
   "metadata": {},
   "source": [
    "## 5. Scope\n",
    "----\n",
    "\n",
    "### 5.1 Dynamic Global Variable\n",
    "* 💡 When a trying to assign to a variable that has never been declared, JS creates a 'dynamic global variable'\n"
   ]
  },
  {
   "cell_type": "code",
   "execution_count": 13,
   "metadata": {},
   "outputs": [
    {
     "data": {
      "text/plain": [
       "'React'"
      ]
     },
     "execution_count": 13,
     "metadata": {},
     "output_type": "execute_result"
    }
   ],
   "source": [
    "topic = \"React\" //note: topic has never been declared before, but JS doesn't complain"
   ]
  },
  {
   "cell_type": "markdown",
   "metadata": {},
   "source": [
    "* Never intentionally create dynamic global variables\n",
    "* Use strict mode to avoid such behavior\n",
    "\n",
    "### 5.2 Undefined vs undeclared\n",
    "\n",
    "* Undefined - a variable exists, but at the moment it has no value\n",
    "* Undeclared - the variable has never been declared\n",
    "\n",
    "### 5.3 Function expression vs function declaration\n",
    "\n",
    "### 5.4 Named function expression\n",
    "\n",
    "```javascript\n",
    "var myFunc = function someFunc(){...}\n",
    "```\n",
    "\n",
    "* Can reference itself reliably (recursion, etc)\n",
    "* More debuuggable stack traces\n",
    "* More self-documenting code\n",
    "\n",
    ">*\" Function Declaration > Named Function Expression > Anonymous Function Expression \"*\n",
    ">\n",
    ">*Kyle Simpson*"
   ]
  },
  {
   "cell_type": "markdown",
   "metadata": {},
   "source": [
    "### 5.4 Immediately Invoked Function Expression (IIFE)"
   ]
  },
  {
   "cell_type": "code",
   "execution_count": 14,
   "metadata": {},
   "outputs": [
    {
     "name": "stdout",
     "output_type": "stream",
     "text": [
      "Suzy\n",
      "Kyle\n"
     ]
    }
   ],
   "source": [
    "var teacher = \"Kyle\";\n",
    "\n",
    "(function anotherTeacher(){\n",
    "    var teacher = \"Suzy\";\n",
    "    console.log(teacher);\n",
    "})();\n",
    "\n",
    "console.log(teacher);"
   ]
  },
  {
   "cell_type": "markdown",
   "metadata": {},
   "source": [
    "#### Usage:\n",
    "* Creating scope\n",
    "* Simplify, make more readable the try/catch\n",
    "```javascript\n",
    "var teacher;\n",
    "try{\n",
    "    teacher = fetchTeacher(1);\n",
    "}\n",
    "catch(err){\n",
    "    teacher = \"Kyle\"\n",
    "}\n",
    "```\n",
    "**BECOMES**\n",
    "```javascript\n",
    "var teacher = (function getTeacher(){\n",
    "     try{\n",
    "         return fetchTeacher(1);\n",
    "     }\n",
    "     catch (err){\n",
    "         return \"Kyle\";\n",
    "     }\n",
    "})();\n",
    "```"
   ]
  },
  {
   "cell_type": "markdown",
   "metadata": {},
   "source": [
    "### 5.5 Block scoping\n",
    "#### To create a scope, we can use the curly braces and a `let` or `const` keyword:"
   ]
  },
  {
   "cell_type": "code",
   "execution_count": 15,
   "metadata": {},
   "outputs": [
    {
     "name": "stdout",
     "output_type": "stream",
     "text": [
      "Suzy\n",
      "Kyle\n"
     ]
    }
   ],
   "source": [
    "var teacher  = \"Kyle\";\n",
    "{\n",
    "    let teacher = \"Suzy\";\n",
    "    console.log(teacher);\n",
    "}\n",
    "console.log(teacher);"
   ]
  },
  {
   "cell_type": "markdown",
   "metadata": {},
   "source": [
    "# 💡\n",
    "### `var` is function scoped!\n",
    "### `let` and `const` are block scoped\n",
    "\n",
    "#### A good usage for `var` is with `try/catch` blocks:"
   ]
  },
  {
   "cell_type": "code",
   "execution_count": 16,
   "metadata": {},
   "outputs": [],
   "source": [
    "function lookupRecord(searchStr){\n",
    "    try{\n",
    "        var id = getRecord( searchStr );\n",
    "    }\n",
    "    catch(err){\n",
    "        var id = -1;\n",
    "    }\n",
    "    return id;\n",
    "}"
   ]
  },
  {
   "cell_type": "markdown",
   "metadata": {},
   "source": [
    "#### This way we don't have to declare `id` before the `try/catch` blocks"
   ]
  },
  {
   "cell_type": "markdown",
   "metadata": {},
   "source": [
    "### 5.6 Hoisting - a made up term for the parsing of javascript code before execution\n",
    "#### Example:"
   ]
  },
  {
   "cell_type": "code",
   "execution_count": 17,
   "metadata": {},
   "outputs": [
    {
     "name": "stdout",
     "output_type": "stream",
     "text": [
      "undefined\n"
     ]
    }
   ],
   "source": [
    "var car = \"BMW\";\n",
    "otherCar();\n",
    "\n",
    "function otherCar(){\n",
    "    console.log(car);\n",
    "    var car = \"VW\";  \n",
    "    // Note: the parsing mechanism of js reserves a car identifier for the function scope,\n",
    "    // therefore shadowing the global car. This is why we get undefined when we execute the function on line 2\n",
    "}"
   ]
  },
  {
   "cell_type": "markdown",
   "metadata": {},
   "source": [
    "### 6. Closure\n",
    "----"
   ]
  },
  {
   "cell_type": "markdown",
   "metadata": {},
   "source": [
    "# 💡\n",
    ">## *\" Closure is when a function 'remembers' its lexical scope even when the function is executed outside that lexical scope \"*\n",
    ">\n",
    ">*Kyle Simpson*"
   ]
  },
  {
   "cell_type": "code",
   "execution_count": 21,
   "metadata": {},
   "outputs": [
    {
     "name": "stdout",
     "output_type": "stream",
     "text": [
      "What is closure?\n"
     ]
    }
   ],
   "source": [
    "function ask(question){\n",
    "    setTimeout(function waitASec(){\n",
    "        console.log(question)\n",
    "    },1000)\n",
    "}\n",
    "\n",
    "ask(\"What is closure?\");"
   ]
  },
  {
   "cell_type": "markdown",
   "metadata": {},
   "source": [
    "**Note** that by the time `waitASec` function executes, the `ask` function has returned. So how do we have reference to the `question` variable inside `waitASec`\n",
    "\n",
    "Another example:"
   ]
  },
  {
   "cell_type": "code",
   "execution_count": 19,
   "metadata": {},
   "outputs": [
    {
     "name": "stdout",
     "output_type": "stream",
     "text": [
      "1 and 2\n"
     ]
    }
   ],
   "source": [
    "function createPrintFunction(){\n",
    "    let a=1;\n",
    "    let b=2;\n",
    "    return function printAandB(){\n",
    "        console.log(`${a} and ${b}`);\n",
    "    }\n",
    "}\n",
    "\n",
    "var printFunction = createPrintFunction();\n",
    "printFunction(); \n",
    "\n",
    "// Note that createPrinFunction has returned, \n",
    "// but printFunction still has access to the variables \n",
    "// defined in the scope off createPrintFunction"
   ]
  },
  {
   "cell_type": "markdown",
   "metadata": {},
   "source": [
    "## NOTE: Closure is not 'closing' over a value, but over variable\n",
    "\n",
    "Example:"
   ]
  },
  {
   "cell_type": "code",
   "execution_count": 30,
   "metadata": {},
   "outputs": [
    {
     "name": "stdout",
     "output_type": "stream",
     "text": [
      "Suzy\n"
     ]
    }
   ],
   "source": [
    "var teacher = \"Kyle\";\n",
    "\n",
    "function printMyTeacher(){\n",
    "    teacher = \"John\";\n",
    "    return  function print(){\n",
    "        console.log(teacher);\n",
    "    }\n",
    "}\n",
    "\n",
    "var myTeacher = printMyTeacher();  \n",
    "// Note that the value of myTeacher is a function that 'closes' over the teacher variable \n",
    "// and not the current value of teacher variable at the time of the creation of the function print, which is \"John\"\n",
    "\n",
    "teacher = \"Suzy\";\n",
    "\n",
    "myTeacher();"
   ]
  },
  {
   "cell_type": "code",
   "execution_count": null,
   "metadata": {},
   "outputs": [],
   "source": [
    "for (var i = 1; i <= 3; i++){\n",
    "    setTimeout(function(){\n",
    "        console.log(`i: ${i}`)\n",
    "    },i*1000);\n",
    "}"
   ]
  },
  {
   "cell_type": "markdown",
   "metadata": {},
   "source": []
  }
 ],
 "metadata": {
  "kernelspec": {
   "display_name": "Javascript (Node.js)",
   "language": "javascript",
   "name": "javascript"
  },
  "language_info": {
   "file_extension": ".js",
   "mimetype": "application/javascript",
   "name": "javascript",
   "version": "8.2.1"
  }
 },
 "nbformat": 4,
 "nbformat_minor": 2
}
